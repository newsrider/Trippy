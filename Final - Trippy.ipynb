{
 "cells": [
  {
   "cell_type": "code",
   "execution_count": 3,
   "metadata": {},
   "outputs": [
    {
     "name": "stdout",
     "output_type": "stream",
     "text": [
      "Collecting git+https://github.com/computationaljournalism/alexa_bot.git@v0.3\n",
      "  Cloning https://github.com/computationaljournalism/alexa_bot.git (to v0.3) to /private/var/folders/67/kk8qwd2j5cjg34bsd78kbl480000gn/T/pip-t_fkrcnx-build\n",
      "  Requirement already satisfied (use --upgrade to upgrade): alexa-bot==0.3 from git+https://github.com/computationaljournalism/alexa_bot.git@v0.3 in /anaconda3/lib/python3.6/site-packages\n",
      "Requirement already satisfied: flask_ask in /anaconda3/lib/python3.6/site-packages (from alexa-bot==0.3)\n",
      "Requirement already satisfied: PyYAML==3.12 in /anaconda3/lib/python3.6/site-packages (from flask_ask->alexa-bot==0.3)\n",
      "Requirement already satisfied: aniso8601==1.2.0 in /anaconda3/lib/python3.6/site-packages (from flask_ask->alexa-bot==0.3)\n",
      "Requirement already satisfied: pyOpenSSL==17.0.0 in /anaconda3/lib/python3.6/site-packages (from flask_ask->alexa-bot==0.3)\n",
      "Requirement already satisfied: Flask==0.12.1 in /anaconda3/lib/python3.6/site-packages (from flask_ask->alexa-bot==0.3)\n",
      "Requirement already satisfied: six==1.11.0 in /anaconda3/lib/python3.6/site-packages (from flask_ask->alexa-bot==0.3)\n",
      "Requirement already satisfied: python-dateutil in /anaconda3/lib/python3.6/site-packages (from aniso8601==1.2.0->flask_ask->alexa-bot==0.3)\n",
      "Requirement already satisfied: cryptography>=1.7 in /anaconda3/lib/python3.6/site-packages (from pyOpenSSL==17.0.0->flask_ask->alexa-bot==0.3)\n",
      "Requirement already satisfied: Werkzeug>=0.7 in /anaconda3/lib/python3.6/site-packages (from Flask==0.12.1->flask_ask->alexa-bot==0.3)\n",
      "Requirement already satisfied: click>=2.0 in /anaconda3/lib/python3.6/site-packages (from Flask==0.12.1->flask_ask->alexa-bot==0.3)\n",
      "Requirement already satisfied: Jinja2>=2.4 in /anaconda3/lib/python3.6/site-packages (from Flask==0.12.1->flask_ask->alexa-bot==0.3)\n",
      "Requirement already satisfied: itsdangerous>=0.21 in /anaconda3/lib/python3.6/site-packages (from Flask==0.12.1->flask_ask->alexa-bot==0.3)\n",
      "Requirement already satisfied: idna>=2.1 in /anaconda3/lib/python3.6/site-packages (from cryptography>=1.7->pyOpenSSL==17.0.0->flask_ask->alexa-bot==0.3)\n",
      "Requirement already satisfied: asn1crypto>=0.21.0 in /anaconda3/lib/python3.6/site-packages (from cryptography>=1.7->pyOpenSSL==17.0.0->flask_ask->alexa-bot==0.3)\n",
      "Requirement already satisfied: cffi>=1.7 in /anaconda3/lib/python3.6/site-packages (from cryptography>=1.7->pyOpenSSL==17.0.0->flask_ask->alexa-bot==0.3)\n",
      "Requirement already satisfied: MarkupSafe>=0.23 in /anaconda3/lib/python3.6/site-packages (from Jinja2>=2.4->Flask==0.12.1->flask_ask->alexa-bot==0.3)\n",
      "Requirement already satisfied: pycparser in /anaconda3/lib/python3.6/site-packages (from cffi>=1.7->cryptography>=1.7->pyOpenSSL==17.0.0->flask_ask->alexa-bot==0.3)\n"
     ]
    },
    {
     "name": "stderr",
     "output_type": "stream",
     "text": [
      "You are using pip version 9.0.1, however version 10.0.1 is available.\n",
      "You should consider upgrading via the 'pip install --upgrade pip' command.\n"
     ]
    }
   ],
   "source": [
    "%%sh\n",
    "pip install git+https://github.com/computationaljournalism/alexa_bot.git@v0.3"
   ]
  },
  {
   "cell_type": "code",
   "execution_count": 9,
   "metadata": {},
   "outputs": [
    {
     "data": {
      "text/html": [
       "<div>\n",
       "<style>\n",
       "    .dataframe thead tr:only-child th {\n",
       "        text-align: right;\n",
       "    }\n",
       "\n",
       "    .dataframe thead th {\n",
       "        text-align: left;\n",
       "    }\n",
       "\n",
       "    .dataframe tbody tr th {\n",
       "        vertical-align: top;\n",
       "    }\n",
       "</style>\n",
       "<table border=\"1\" class=\"dataframe\">\n",
       "  <thead>\n",
       "    <tr style=\"text-align: right;\">\n",
       "      <th></th>\n",
       "      <th>Index</th>\n",
       "      <th>City</th>\n",
       "      <th>Description</th>\n",
       "      <th>Food</th>\n",
       "      <th>Activity 1</th>\n",
       "      <th>Activity 2</th>\n",
       "      <th>Hotel</th>\n",
       "      <th>Book</th>\n",
       "    </tr>\n",
       "  </thead>\n",
       "  <tbody>\n",
       "    <tr>\n",
       "      <th>0</th>\n",
       "      <td>1</td>\n",
       "      <td>Casablanca</td>\n",
       "      <td>It’s impossible to say “Casablanca” without co...</td>\n",
       "      <td>You might want to start your day with somethin...</td>\n",
       "      <td>Visit the magnificent Hassan II Grand Mosque, ...</td>\n",
       "      <td>venture with a private driver and guide to see...</td>\n",
       "      <td>Kenzi Basma\\nThis four-star, recently renovate...</td>\n",
       "      <td>We recommend The Caliph's House: A Year in Cas...</td>\n",
       "    </tr>\n",
       "    <tr>\n",
       "      <th>1</th>\n",
       "      <td>2</td>\n",
       "      <td>Porto</td>\n",
       "      <td>Porto is, of course, known for its wine. But w...</td>\n",
       "      <td>Sample traditional Portuguese dishes like boli...</td>\n",
       "      <td>Travel to the Vila Nova de Gaia neighborhood o...</td>\n",
       "      <td>The Douro Valley, also known as the Alto Douro...</td>\n",
       "      <td>\\nThe Yeatman Hotel. \\nThis Relais &amp; Châteaux ...</td>\n",
       "      <td>For wine afficionados, we recommend Anne Fadim...</td>\n",
       "    </tr>\n",
       "    <tr>\n",
       "      <th>2</th>\n",
       "      <td>3</td>\n",
       "      <td>Galapagos</td>\n",
       "      <td>Charles Darwin called the Galápagos Islands “a...</td>\n",
       "      <td>In the heart of one of the most abundant marin...</td>\n",
       "      <td>Fly to Baltra Island and your entry to Galápag...</td>\n",
       "      <td>Take a cruise to Isabela Island, the largest i...</td>\n",
       "      <td>We recommend the Galaxy Cruise to tour the isl...</td>\n",
       "      <td>As you admire the finches on Darwin Island in ...</td>\n",
       "    </tr>\n",
       "    <tr>\n",
       "      <th>3</th>\n",
       "      <td>4</td>\n",
       "      <td>Tokyo</td>\n",
       "      <td>Tokyo is more than 400 years old, and some peo...</td>\n",
       "      <td>Dine like a local, at an izakaya. Izakaya are ...</td>\n",
       "      <td>Take a panoramic city tour, seeing Tokyo land...</td>\n",
       "      <td>If you stay in the Ginza, you can see the glam...</td>\n",
       "      <td>The Prince Sakura Tower Tokyo, Autograph Colle...</td>\n",
       "      <td>Kafka on the Shore by Japanese novelist Haruki...</td>\n",
       "    </tr>\n",
       "  </tbody>\n",
       "</table>\n",
       "</div>"
      ],
      "text/plain": [
       "   Index         City                                        Description  \\\n",
       "0       1  Casablanca  It’s impossible to say “Casablanca” without co...   \n",
       "1       2       Porto  Porto is, of course, known for its wine. But w...   \n",
       "2       3   Galapagos  Charles Darwin called the Galápagos Islands “a...   \n",
       "3       4       Tokyo  Tokyo is more than 400 years old, and some peo...   \n",
       "\n",
       "                                                Food  \\\n",
       "0  You might want to start your day with somethin...   \n",
       "1  Sample traditional Portuguese dishes like boli...   \n",
       "2  In the heart of one of the most abundant marin...   \n",
       "3  Dine like a local, at an izakaya. Izakaya are ...   \n",
       "\n",
       "                                          Activity 1  \\\n",
       "0  Visit the magnificent Hassan II Grand Mosque, ...   \n",
       "1  Travel to the Vila Nova de Gaia neighborhood o...   \n",
       "2  Fly to Baltra Island and your entry to Galápag...   \n",
       "3   Take a panoramic city tour, seeing Tokyo land...   \n",
       "\n",
       "                                          Activity 2  \\\n",
       "0  venture with a private driver and guide to see...   \n",
       "1  The Douro Valley, also known as the Alto Douro...   \n",
       "2  Take a cruise to Isabela Island, the largest i...   \n",
       "3  If you stay in the Ginza, you can see the glam...   \n",
       "\n",
       "                                               Hotel  \\\n",
       "0  Kenzi Basma\\nThis four-star, recently renovate...   \n",
       "1  \\nThe Yeatman Hotel. \\nThis Relais & Châteaux ...   \n",
       "2  We recommend the Galaxy Cruise to tour the isl...   \n",
       "3  The Prince Sakura Tower Tokyo, Autograph Colle...   \n",
       "\n",
       "                                                Book  \n",
       "0  We recommend The Caliph's House: A Year in Cas...  \n",
       "1  For wine afficionados, we recommend Anne Fadim...  \n",
       "2  As you admire the finches on Darwin Island in ...  \n",
       "3  Kafka on the Shore by Japanese novelist Haruki...  "
      ]
     },
     "execution_count": 9,
     "metadata": {},
     "output_type": "execute_result"
    }
   ],
   "source": [
    "from pandas import DataFrame\n",
    "from pandas import read_csv\n",
    "\n",
    "descrip = read_csv(\"Trippydescription.csv\")\n",
    "descrip"
   ]
  },
  {
   "cell_type": "code",
   "execution_count": null,
   "metadata": {
    "collapsed": true
   },
   "outputs": [],
   "source": [
    "def takeme_intent(city):\n",
    "    session.attribute['eur_city'] = city\n",
    "    if city:\n",
    "        session.attribute['next_step_yes'] = \"flight\"\n",
    "        session.attribute['next_step_no'] = \"quit\"\n",
    "        return(question('say yes for activity'))\n",
    "    else:\n",
    "        return(question('we couldnt find the city.'))\n",
    "\n",
    "def yes_intent():\n",
    "    next_step = session.attribute['next_step_yes']\n",
    "    if next_step == \"activity\":\n",
    "        activ1_intent()\n",
    "    elif next_step == \"food\":\n",
    "        food_intent()\n",
    "    elif next_step == \"flights\":\n",
    "        flight_intent()\n",
    "    else:\n",
    "        return(question(\"we're not sure what you're trying to do....\"))"
   ]
  },
  {
   "cell_type": "code",
   "execution_count": null,
   "metadata": {
    "collapsed": true
   },
   "outputs": [],
   "source": [
    "def takeme_intent(city):\n",
    "    session.attribute['eur_city'] = city\n",
    "    if city:\n",
    "        session.attribute['next_step_yes'] = \"flight\"\n",
    "        session.attribute['next_step_no'] = \"quit\"\n",
    "        return(question('say yes for activity'))\n",
    "    else:\n",
    "        return(question('we couldnt find the city.'))\n",
    "\n",
    "def yes_intent():\n",
    "    next_step = session.attribute['next_step_yes']\n",
    "    if next_step == \"activity\":\n",
    "        activ1_intent()\n",
    "    elif next_step == \"food\":\n",
    "        food_intent()\n",
    "    elif next_step == \"flights\":\n",
    "        flight_intent()\n",
    "    else:\n",
    "        return(question(\"we're not sure what you're trying to do....\"))"
   ]
  },
  {
   "cell_type": "code",
   "execution_count": 2,
   "metadata": {
    "scrolled": true
   },
   "outputs": [
    {
     "name": "stderr",
     "output_type": "stream",
     "text": [
      " * Running on http://127.0.0.1:5000/ (Press CTRL+C to quit)\n"
     ]
    },
    {
     "name": "stdout",
     "output_type": "stream",
     "text": [
      "   Index         City                                        Description  \\\n",
      "0       1  Casablanca  It’s impossible to say “Casablanca” without co...   \n",
      "1       2       Porto  Porto is, of course, known for its wine. But w...   \n",
      "2       3   Galapagos  Charles Darwin called the Galápagos Islands “a...   \n",
      "3       4       Tokyo  Tokyo is more than 400 years old, and some peo...   \n",
      "\n",
      "                                                Food  \\\n",
      "0  You might want to start your day with somethin...   \n",
      "1  Sample traditional Portuguese dishes like boli...   \n",
      "2  In the heart of one of the most abundant marin...   \n",
      "3  Dine like a local, at an izakaya. Izakaya are ...   \n",
      "\n",
      "                                          Activity 1  \\\n",
      "0  Visit the magnificent Hassan II Grand Mosque, ...   \n",
      "1  Travel to the Vila Nova de Gaia neighborhood o...   \n",
      "2  Fly to Baltra Island and your entry to Galápag...   \n",
      "3   Take a panoramic city tour, seeing Tokyo land...   \n",
      "\n",
      "                                          Activity 2  \\\n",
      "0  venture with a private driver and guide to see...   \n",
      "1  The Douro Valley, also known as the Alto Douro...   \n",
      "2  Take a cruise to Isabela Island, the largest i...   \n",
      "3  If you stay in the Ginza, you can see the glam...   \n",
      "\n",
      "                                               Hotel  \\\n",
      "0  Kenzi Basma\\nThis four-star, recently renovate...   \n",
      "1  \\nThe Yeatman Hotel. \\nThis Relais & Châteaux ...   \n",
      "2  We recommend the Galaxy Cruise to tour the isl...   \n",
      "3  The Prince Sakura Tower Tokyo, Autograph Colle...   \n",
      "\n",
      "                                                Book next_flight  duration  \\\n",
      "0  We recommend The Caliph's House: A Year in Cas...       12:40         1   \n",
      "1  as you admire the finches on Darwin Island in ...       13:33         2   \n",
      "2  As you admire the finches on Darwin Island in ...       11:09         3   \n",
      "3  Kafka on the Shore by Japanese novelist Haruki...       11:00         4   \n",
      "\n",
      "  arrival  \n",
      "0   12:00  \n",
      "1   11:01  \n",
      "2   11:01  \n",
      "3   11:00  \n"
     ]
    },
    {
     "name": "stderr",
     "output_type": "stream",
     "text": [
      "127.0.0.1 - - [08/May/2018 15:17:44] \"POST / HTTP/1.1\" 200 -\n"
     ]
    },
    {
     "name": "stdout",
     "output_type": "stream",
     "text": [
      "start Trippy launch\n"
     ]
    },
    {
     "name": "stderr",
     "output_type": "stream",
     "text": [
      "127.0.0.1 - - [08/May/2018 15:17:50] \"POST / HTTP/1.1\" 200 -\n"
     ]
    },
    {
     "name": "stdout",
     "output_type": "stream",
     "text": [
      "take me intent called with:Tokyo\n"
     ]
    },
    {
     "name": "stderr",
     "output_type": "stream",
     "text": [
      "[2018-05-08 15:17:59,603] ERROR in app: Exception on / [POST]\n",
      "Traceback (most recent call last):\n",
      "  File \"/anaconda3/lib/python3.6/site-packages/flask/app.py\", line 1982, in wsgi_app\n",
      "    response = self.full_dispatch_request()\n",
      "  File \"/anaconda3/lib/python3.6/site-packages/flask/app.py\", line 1614, in full_dispatch_request\n",
      "    rv = self.handle_user_exception(e)\n",
      "  File \"/anaconda3/lib/python3.6/site-packages/flask/app.py\", line 1517, in handle_user_exception\n",
      "    reraise(exc_type, exc_value, tb)\n",
      "  File \"/anaconda3/lib/python3.6/site-packages/flask/_compat.py\", line 33, in reraise\n",
      "    raise value\n",
      "  File \"/anaconda3/lib/python3.6/site-packages/flask/app.py\", line 1612, in full_dispatch_request\n",
      "    rv = self.dispatch_request()\n",
      "  File \"/anaconda3/lib/python3.6/site-packages/flask/app.py\", line 1598, in dispatch_request\n",
      "    return self.view_functions[rule.endpoint](**req.view_args)\n",
      "  File \"/anaconda3/lib/python3.6/site-packages/flask_ask/core.py\", line 767, in _flask_view_func\n",
      "    result = self._map_intent_to_view_func(self.request.intent)()\n",
      "  File \"/anaconda3/lib/python3.6/site-packages/flask_ask/core.py\", line 788, in _map_intent_to_view_func\n",
      "    raise NotImplementedError('Intent \"{}\" not found and no default intent specified.'.format(intent.name))\n",
      "NotImplementedError: Intent \"AMAZON.StopIntent\" not found and no default intent specified.\n",
      "127.0.0.1 - - [08/May/2018 15:17:59] \"POST / HTTP/1.1\" 500 -\n",
      "127.0.0.1 - - [08/May/2018 15:17:59] \"POST / HTTP/1.1\" 200 -\n"
     ]
    }
   ],
   "source": [
    "from pandas import DataFrame\n",
    "from pandas import read_csv\n",
    "\n",
    "descrip = read_csv(\"Trippydescription.csv\")\n",
    "\n",
    "print(descrip)\n",
    "\n",
    "from alexa_bot import AlexaBot\n",
    "from flask_ask import Ask, request, session, question, statement, context, audio, current_stream\n",
    "\n",
    "def takeme_intent(eur_city):\n",
    "    print(\"take me intent called with:\" + eur_city)\n",
    "    speech = \"Here's one of my favorites\"\n",
    "    stream_url = 'https://www.soundjay.com/transportation/sounds/airplane-fly-by-01a.mp3'\n",
    "    if sum(descrip[\"City\"] == eur_city) == 1:\n",
    "        takeme = descrip[(descrip[\"City\"] == eur_city)][\"Description\"].iloc[0]\n",
    "        return (question(\"Alright,{0}. {1}  would you like to know when is the next flight form New York City?\".format(eur_city, takeme)))\n",
    "    return(question(\"I don't have {0} in my database. How about some other place? Like Tokyo or Casablanca or even Porto?\".format(eur_city)))\n",
    "    print(\"d\")\n",
    "    #return(audio(speech).play(stream_url))\n",
    "    \n",
    "    #return(play(stream_url))\n",
    "\n",
    "    \n",
    "def flight(eur_city):\n",
    "    \n",
    "    print(\"flight intent called with:\" + eur_city)\n",
    "    print(descrip)\n",
    "    next_flight = descrip[(descrip[\"City\"] == eur_city)][\"next_flight\"].iloc[0]\n",
    "    print(\"next_flight\")\n",
    "    print(next_flight)\n",
    "    arrive = descrip[(descrip[\"City\"] == eur_city)][\"arrival\"].iloc[0]\n",
    "    print(\"arrive\")\n",
    "    print(arrive)\n",
    "    duration = descrip[(descrip[\"City\"] == eur_city)][\"duration\"].iloc[0]\n",
    "    print(\"dur\")\n",
    "    print(duration)\n",
    "    if sum(descrip[\"City\"] == eur_city) == 1:\n",
    "        return(question(\"The fisrt flight to {0} leaves New York City at {1}, and you will arrive at {2} local time, so you are on the plane for {3} hours\".format(eur_city, next_flight, arrive, duration)))\n",
    "    return(question(\"I don't have {0} flight info in my database. I am sorry. How about some other place? Like Tokyo or Casablanca or even Porto?\".format(eur_city)))\n",
    "  \n",
    "#How do you randomize the place Trippy suggests?\n",
    "#it will arrive at {2} local time which means you are on the plane for  {3}\"\n",
    "\n",
    "def book_Intent(eur_city):\n",
    "    print(\"book intent called with:\" + eur_city)\n",
    "    if sum(descrip[\"City\"]== eur_city) == 1:\n",
    "        read = descrip[(descrip[\"City\"]==eur_city)][\"Book\"].iloc[0]\n",
    "        return(statement(\"{0}. Would you like a Kindle or Audible download?\".format(read)))\n",
    "    return(statement(\"I don't have {0} in my database.\".format(eur_city)))\n",
    "\n",
    "def activ1_intent (eur_city):\n",
    "    print (\"first activity reco called with:\" + eur_city)\n",
    "    if sum(descrip[\"City\"]== eur_city) == 1:\n",
    "        activ1 = descrip[(descrip[\"City\"]== eur_city)][\"Activity 1\"].iloc[0]\n",
    "        return(question(\"{0}. Would you like to hear another activity to do in {0}?\".format(activ1)))\n",
    "    return(question(\"I don't have {0} in my database.\".format(eur_city)))\n",
    "\n",
    "def food_intent (eur_city):\n",
    "    print (\"food intent called with:\" + eur_city)\n",
    "    if sum(descrip[\"City\"]== eur_city) == 1:\n",
    "        eats = descrip[(descrip[\"City\"]== eur_city)][\"Food\"].iloc[0]\n",
    "        return(statement(\"{0}.\".format(eats)))\n",
    "    return(statement(\"I don't have {0} in my database.\".format(eur_city)))\n",
    "\n",
    "def launch_intent():\n",
    "    print(\"start Trippy launch\")\n",
    "    return(question(\"Welcome! How can I plan your travel today?\"))\n",
    "\n",
    "def no_intent():\n",
    "    print(\"the no intent was called\")\n",
    "    return(statement(\"no? really?\"))\n",
    "\n",
    "def yes_intent():\n",
    "    print(\"the yes intent was called\")\n",
    "    return(statement(\"ok!\"))\n",
    "\n",
    "\n",
    "# we need to update our config and start our bot again\n",
    "config = [\n",
    "    ['launch', launch_intent],\n",
    "    ['AMAZON.NoIntent', no_intent],\n",
    "    ['AMAZON.YesIntent', yes_intent],\n",
    "    ['TakemeIntent', takeme_intent],\n",
    "   # ['BookIntent', book_intent],\n",
    "    ['FirstActIntent', activ1_intent],\n",
    "    ['FoodIntent', food_intent],\n",
    "    ['flight', flight]\n",
    "]\n",
    "\n",
    "# create our bot object\n",
    "bot = AlexaBot(config)\n",
    "\n",
    "# start up our bot\n",
    "bot.start()"
   ]
  },
  {
   "cell_type": "markdown",
   "metadata": {},
   "source": [
    "## May 10 "
   ]
  },
  {
   "cell_type": "code",
   "execution_count": null,
   "metadata": {},
   "outputs": [
    {
     "name": "stderr",
     "output_type": "stream",
     "text": [
      " * Running on http://127.0.0.1:5000/ (Press CTRL+C to quit)\n"
     ]
    },
    {
     "name": "stdout",
     "output_type": "stream",
     "text": [
      "   Index         City                                        Description  \\\n",
      "0       1  Casablanca  It’s impossible to say “Casablanca” without co...   \n",
      "1       2       porto  Porto is, of course, known for its wine. But w...   \n",
      "2       3   Galápagos  Charles Darwin called the Galápagos Islands “a...   \n",
      "3       4       Tokyo  Tokyo is more than 400 years old, and some peo...   \n",
      "\n",
      "                                                Food  \\\n",
      "0  You might want to start your day with somethin...   \n",
      "1  Sample traditional Portuguese dishes like boli...   \n",
      "2  In the heart of one of the most abundant marin...   \n",
      "3  Dine like a local, at an izakaya. Izakaya are ...   \n",
      "\n",
      "                                          Activity 1  \\\n",
      "0  Visit the magnificent Hassan II Grand Mosque, ...   \n",
      "1  Travel to the Vila Nova de Gaia neighborhood o...   \n",
      "2  Fly to Baltra Island and your entry to Galápag...   \n",
      "3   Take a panoramic city tour, seeing Tokyo land...   \n",
      "\n",
      "                                          Activity 2  \\\n",
      "0  venture with a private driver and guide to see...   \n",
      "1  The Douro Valley, also known as the Alto Douro...   \n",
      "2  Take a cruise to Isabela Island, the largest i...   \n",
      "3  If you stay in the Ginza, you can see the glam...   \n",
      "\n",
      "                                               Hotel  \\\n",
      "0  Hotel Kenzi Basma.\\nThis four-star, recently r...   \n",
      "1  The Yeatman Hotel. \\nThis Relais & Châteaux ho...   \n",
      "2  We recommend the Galaxy Cruise to tour the isl...   \n",
      "3  The Prince Sakura Tower Tokyo. Nestled among g...   \n",
      "\n",
      "                                                Book next_flight  \\\n",
      "0  We recommend The Caliph's House: A Year in Cas...      9 p.m.   \n",
      "1  For wine afficionados, we recommend Anne Fadim...  9:45 p.m.    \n",
      "2  As you admire the finches on Darwin Island in ...  11:00 a.m.   \n",
      "3  Kafka on the Shore by Japanese novelist and To...  11:00 a.m.   \n",
      "\n",
      "              duration     arrival  \n",
      "0   6 hours 50 minutes   8:50 a.m.  \n",
      "1              7 hours   9:45 a.m.  \n",
      "2   6 hours 15 minutes  4:15 p.m.   \n",
      "3  13 hours 55 minutes   1:55 p.m.  \n"
     ]
    },
    {
     "name": "stderr",
     "output_type": "stream",
     "text": [
      "127.0.0.1 - - [11/May/2018 21:17:43] \"POST / HTTP/1.1\" 200 -\n"
     ]
    },
    {
     "name": "stdout",
     "output_type": "stream",
     "text": [
      "start Trippy launch\n"
     ]
    },
    {
     "name": "stderr",
     "output_type": "stream",
     "text": [
      "127.0.0.1 - - [11/May/2018 21:17:55] \"POST / HTTP/1.1\" 200 -\n"
     ]
    },
    {
     "name": "stdout",
     "output_type": "stream",
     "text": [
      "take me intent called with:Havana\n",
      "a\n"
     ]
    },
    {
     "name": "stderr",
     "output_type": "stream",
     "text": [
      "[2018-05-11 21:18:10,012] ERROR in app: Exception on / [POST]\n",
      "Traceback (most recent call last):\n",
      "  File \"/anaconda3/lib/python3.6/site-packages/flask/app.py\", line 1982, in wsgi_app\n",
      "    response = self.full_dispatch_request()\n",
      "  File \"/anaconda3/lib/python3.6/site-packages/flask/app.py\", line 1614, in full_dispatch_request\n",
      "    rv = self.handle_user_exception(e)\n",
      "  File \"/anaconda3/lib/python3.6/site-packages/flask/app.py\", line 1517, in handle_user_exception\n",
      "    reraise(exc_type, exc_value, tb)\n",
      "  File \"/anaconda3/lib/python3.6/site-packages/flask/_compat.py\", line 33, in reraise\n",
      "    raise value\n",
      "  File \"/anaconda3/lib/python3.6/site-packages/flask/app.py\", line 1612, in full_dispatch_request\n",
      "    rv = self.dispatch_request()\n",
      "  File \"/anaconda3/lib/python3.6/site-packages/flask/app.py\", line 1598, in dispatch_request\n",
      "    return self.view_functions[rule.endpoint](**req.view_args)\n",
      "  File \"/anaconda3/lib/python3.6/site-packages/flask_ask/core.py\", line 767, in _flask_view_func\n",
      "    result = self._map_intent_to_view_func(self.request.intent)()\n",
      "  File \"/anaconda3/lib/python3.6/site-packages/flask_ask/core.py\", line 788, in _map_intent_to_view_func\n",
      "    raise NotImplementedError('Intent \"{}\" not found and no default intent specified.'.format(intent.name))\n",
      "NotImplementedError: Intent \"AMAZON.SearchAction<object@MusicCreativeWork>\" not found and no default intent specified.\n",
      "127.0.0.1 - - [11/May/2018 21:18:10] \"POST / HTTP/1.1\" 500 -\n",
      "127.0.0.1 - - [11/May/2018 21:18:10] \"POST / HTTP/1.1\" 200 -\n",
      "127.0.0.1 - - [11/May/2018 21:18:26] \"POST / HTTP/1.1\" 200 -\n"
     ]
    },
    {
     "name": "stdout",
     "output_type": "stream",
     "text": [
      "start Trippy launch\n"
     ]
    },
    {
     "name": "stderr",
     "output_type": "stream",
     "text": [
      "127.0.0.1 - - [11/May/2018 21:18:37] \"POST / HTTP/1.1\" 200 -\n"
     ]
    },
    {
     "name": "stdout",
     "output_type": "stream",
     "text": [
      "take me intent called with:Oakland california\n",
      "a\n"
     ]
    },
    {
     "name": "stderr",
     "output_type": "stream",
     "text": [
      "[2018-05-11 21:18:53,534] ERROR in app: Exception on / [POST]\n",
      "Traceback (most recent call last):\n",
      "  File \"/anaconda3/lib/python3.6/site-packages/flask/app.py\", line 1982, in wsgi_app\n",
      "    response = self.full_dispatch_request()\n",
      "  File \"/anaconda3/lib/python3.6/site-packages/flask/app.py\", line 1614, in full_dispatch_request\n",
      "    rv = self.handle_user_exception(e)\n",
      "  File \"/anaconda3/lib/python3.6/site-packages/flask/app.py\", line 1517, in handle_user_exception\n",
      "    reraise(exc_type, exc_value, tb)\n",
      "  File \"/anaconda3/lib/python3.6/site-packages/flask/_compat.py\", line 33, in reraise\n",
      "    raise value\n",
      "  File \"/anaconda3/lib/python3.6/site-packages/flask/app.py\", line 1612, in full_dispatch_request\n",
      "    rv = self.dispatch_request()\n",
      "  File \"/anaconda3/lib/python3.6/site-packages/flask/app.py\", line 1598, in dispatch_request\n",
      "    return self.view_functions[rule.endpoint](**req.view_args)\n",
      "  File \"/anaconda3/lib/python3.6/site-packages/flask_ask/core.py\", line 767, in _flask_view_func\n",
      "    result = self._map_intent_to_view_func(self.request.intent)()\n",
      "  File \"<ipython-input-1-236528b6a073>\", line 25, in takeme_intent\n",
      "    print(\"take me intent called with:\" + eur_city)\n",
      "TypeError: must be str, not NoneType\n",
      "127.0.0.1 - - [11/May/2018 21:18:53] \"POST / HTTP/1.1\" 500 -\n",
      "127.0.0.1 - - [11/May/2018 21:18:53] \"POST / HTTP/1.1\" 200 -\n",
      "127.0.0.1 - - [11/May/2018 21:19:13] \"POST / HTTP/1.1\" 200 -\n"
     ]
    },
    {
     "name": "stdout",
     "output_type": "stream",
     "text": [
      "start Trippy launch\n"
     ]
    },
    {
     "name": "stderr",
     "output_type": "stream",
     "text": [
      "127.0.0.1 - - [11/May/2018 21:19:22] \"POST / HTTP/1.1\" 200 -\n"
     ]
    },
    {
     "name": "stdout",
     "output_type": "stream",
     "text": [
      "take me intent called with:Tokyo\n",
      "a\n",
      "b\n",
      "c\n"
     ]
    },
    {
     "name": "stderr",
     "output_type": "stream",
     "text": [
      "127.0.0.1 - - [11/May/2018 21:19:54] \"POST / HTTP/1.1\" 200 -\n",
      "127.0.0.1 - - [11/May/2018 21:20:22] \"POST / HTTP/1.1\" 200 -\n"
     ]
    },
    {
     "name": "stdout",
     "output_type": "stream",
     "text": [
      "start Trippy launch\n"
     ]
    },
    {
     "name": "stderr",
     "output_type": "stream",
     "text": [
      "[2018-05-11 21:20:31,644] ERROR in app: Exception on / [POST]\n",
      "Traceback (most recent call last):\n",
      "  File \"/anaconda3/lib/python3.6/site-packages/flask/app.py\", line 1982, in wsgi_app\n",
      "    response = self.full_dispatch_request()\n",
      "  File \"/anaconda3/lib/python3.6/site-packages/flask/app.py\", line 1614, in full_dispatch_request\n",
      "    rv = self.handle_user_exception(e)\n",
      "  File \"/anaconda3/lib/python3.6/site-packages/flask/app.py\", line 1517, in handle_user_exception\n",
      "    reraise(exc_type, exc_value, tb)\n",
      "  File \"/anaconda3/lib/python3.6/site-packages/flask/_compat.py\", line 33, in reraise\n",
      "    raise value\n",
      "  File \"/anaconda3/lib/python3.6/site-packages/flask/app.py\", line 1612, in full_dispatch_request\n",
      "    rv = self.dispatch_request()\n",
      "  File \"/anaconda3/lib/python3.6/site-packages/flask/app.py\", line 1598, in dispatch_request\n",
      "    return self.view_functions[rule.endpoint](**req.view_args)\n",
      "  File \"/anaconda3/lib/python3.6/site-packages/flask_ask/core.py\", line 767, in _flask_view_func\n",
      "    result = self._map_intent_to_view_func(self.request.intent)()\n",
      "  File \"/anaconda3/lib/python3.6/site-packages/flask_ask/core.py\", line 788, in _map_intent_to_view_func\n",
      "    raise NotImplementedError('Intent \"{}\" not found and no default intent specified.'.format(intent.name))\n",
      "NotImplementedError: Intent \"AMAZON.SearchAction<object@MusicCreativeWork>\" not found and no default intent specified.\n",
      "127.0.0.1 - - [11/May/2018 21:20:31] \"POST / HTTP/1.1\" 500 -\n",
      "127.0.0.1 - - [11/May/2018 21:20:31] \"POST / HTTP/1.1\" 200 -\n"
     ]
    }
   ],
   "source": [
    "# import the dataset\n",
    "from pandas import DataFrame\n",
    "from pandas import read_csv\n",
    "\n",
    "descrip = read_csv(\"Trippydescription.csv\")\n",
    "\n",
    "print(descrip)\n",
    "\n",
    "#import alexa related libraries\n",
    "from alexa_bot import AlexaBot\n",
    "from flask_ask import Ask, request, session, question, statement, context, audio, current_stream\n",
    "\n",
    "\n",
    "# define the intents \n",
    "# do not forget to add them to the intercation model as well. \n",
    "\n",
    "\n",
    "def launch_intent():\n",
    "    print(\"start Trippy launch\")\n",
    "    return(question(\"Hey what's up! Where can I take you on a journey today? Just say take me to, and then the name of the city\"))\n",
    "\n",
    "\n",
    "def takeme_intent(eur_city):\n",
    "    \n",
    "    print(\"take me intent called with:\" + eur_city)\n",
    "    # we need \"session.attributes\" to store the answers that users give for future use\n",
    "    session.attributes[\"eur_city\"] = eur_city\n",
    "    print('a')\n",
    "    # Here we check to see if the city is in the dataset\n",
    "    if sum(descrip[\"City\"] == eur_city)==1:\n",
    "        takeme = descrip[(descrip[\"City\"] == eur_city)][\"Description\"].iloc[0]\n",
    "        session.attributes['next_step_yes'] = \"flight\"\n",
    "        print('b')\n",
    "        session.attributes['next_step_no'] = \"another_city\"\n",
    "        print('c')\n",
    "        return(question(\"Okay cool,{0}. {1} Let's get you out of crazy New York. I can see why you want a break from the city, just the other day somebody yelled at me on the street. Want to know about the next flight?\".format(eur_city, takeme)))\n",
    "        print('d')\n",
    "        #session.attributes['next_step_yes'] = \"recommend another city\"\n",
    "    return(question(\"I don't think I've ever been to {0} so I don't want to make it up . How about some other place? just say, i want to go to Tokyo or Casablanca?\".format(eur_city)))    \n",
    "\n",
    "def yes_intent():\n",
    "    print('d')\n",
    "    next_step = session.attributes['next_step_yes']\n",
    "    eur_city = session.attributes['eur_city']\n",
    "    print('e')\n",
    "    if next_step == \"flight\":\n",
    "        return (flight(eur_city))\n",
    "        print('f')\n",
    "    elif next_step == \"plane_sound\":\n",
    "        #planesound_Intent(eur_city)\n",
    "        #return(question(\"fuck you for now\"))\n",
    "        return (planesound_Intent(eur_city))\n",
    "    elif next_step == \"hotel\":\n",
    "        return (hotel_intent (eur_city))\n",
    "    elif next_step == \"food\":\n",
    "        return (food_intent(eur_city))\n",
    "    elif next_step == \"activ1\":\n",
    "        return (activ1_intent(eur_city))\n",
    "    elif next_step == \"activ2\":\n",
    "        return (activ2_intent(eur_city))\n",
    "    elif next_step == \"book\":\n",
    "        return (book_Intent(eur_city))\n",
    "    else:\n",
    "        return(question(\"I have no idea what you're trying to do....\"))\n",
    "    #return(statement(\"ok kourosh!\"))\n",
    "    \n",
    "def no_intent():\n",
    "    print(\"the no intent was called\")\n",
    "    next_step = session.attributes['next_step_no']\n",
    "    eur_city = session.attributes['eur_city']\n",
    "    if next_step == \"another_city\":\n",
    "        return (another_city(eur_city))\n",
    "        print('f')\n",
    "    elif next_step == \"plane_no_sound\":\n",
    "        return (planesound_no_Intent(eur_city))\n",
    "    elif next_step == \"hotel\":\n",
    "        return (hotel_intent (eur_city))\n",
    "    elif next_step == \"activ1\":\n",
    "        return (activ1_intent(eur_city))\n",
    "    elif next_step == \"back\":\n",
    "        return (back_Intent(eur_city))\n",
    "    elif next_step == \"another_city\":\n",
    "        return (another_city(eur_city))\n",
    "    \n",
    "    else:\n",
    "        return(question(\"I have no idea what you're trying to do....\"))\n",
    "\n",
    "    \n",
    "def flight(eur_city):\n",
    "    \n",
    "    #print(\"flight intent called with:\" + eur_city)\n",
    "    print(descrip)\n",
    "    next_flight = descrip[(descrip[\"City\"] == eur_city)][\"next_flight\"].iloc[0]\n",
    "    print(\"next_flight\")\n",
    "    print(next_flight)\n",
    "    arrive = descrip[(descrip[\"City\"] == eur_city)][\"arrival\"].iloc[0]\n",
    "    print(\"arrive\")\n",
    "    print(arrive)\n",
    "    duration = descrip[(descrip[\"City\"] == eur_city)][\"duration\"].iloc[0]\n",
    "    print(\"dur\")\n",
    "    print(duration)\n",
    "    if sum(descrip[\"City\"] == eur_city) == 1:\n",
    "        session.attributes['next_step_yes'] = \"hotel\"\n",
    "        session.attributes['next_step_no'] = \"back\"\n",
    "        return(question(\"Okay awesome, I'm excited! The first flight to {0} leaves New York at {1}, and you'll get there at {2} local time! So basically you're on the plane for {3}, lets hope you're not sitting next to someone that smells... Okay we've arrived in {0}.... Let's get you a hotel. You can drop off your bag and then we'll explore the city together! Want me to check you into your hotel?\".format(eur_city, next_flight, arrive, duration)))\n",
    "    return(question(\"hmmm, I'm embarrased, don't know about flights to {0}. Lets try some other place? just say take me to Tokyo or Casablanca?\".format(eur_city)))\n",
    "\n",
    "\n",
    "def hotel_intent (eur_city):\n",
    "    print (\"hotel intent called with:\" + eur_city)\n",
    "    session.attributes[\"eur_city\"] = eur_city\n",
    "    if sum(descrip[\"City\"]== eur_city) == 1:\n",
    "        lodging = descrip[(descrip[\"City\"]== eur_city)][\"Hotel\"].iloc[0]\n",
    "        session.attributes['next_step_yes'] = \"food\"\n",
    "        print('go to food intent')\n",
    "        session.attributes['next_step_no'] = \"back\"\n",
    "        print('go to activity intent')\n",
    "        return(question(\"{0}. You've been travelling a lot today, I'm not your mother but you must want something to eat. You hungry?\".format(lodging)))\n",
    "    return (statement(\"I don't know about {0}.\".format(eur_city)))\n",
    "\n",
    "def food_intent (eur_city):\n",
    "    print (\"food intent called with:\" + eur_city)\n",
    "    if sum(descrip[\"City\"]== eur_city) == 1:\n",
    "        session.attributes['next_step_yes'] = \"activ1\"\n",
    "        session.attributes['next_step_no'] = \"back\"\n",
    "        eats = descrip[(descrip[\"City\"]== eur_city)][\"Food\"].iloc[0]\n",
    "        return(question(\"{0}. The food must've been awesome, but enough eating for now. It's time to do something in the city. wanna explore?\".format(eats)))\n",
    "#       return(question(\"{0}. Are you up for an activity?\".format(lodging)))\n",
    "    return (statement(\"I'm not sure if I know {0}.\".format(eur_city)))\n",
    "\n",
    "def activ1_intent (eur_city):\n",
    "    print (\"first activity reco called with:\" + eur_city)\n",
    "    if sum(descrip[\"City\"]== eur_city) == 1:\n",
    "        activ1 = descrip[(descrip[\"City\"]== eur_city)][\"Activity 1\"].iloc[0]\n",
    "        session.attributes['next_step_yes'] = \"activ2\"\n",
    "        session.attributes['next_step_no'] = \"back\"\n",
    "        return(question(\"{0}. I told you that would be fun. Let's explore some more! Are you in?\".format(activ1, eur_city)))\n",
    "    return(question(\"I don't know about {0}.\".format(eur_city)))\n",
    "\n",
    "def activ2_intent (eur_city):\n",
    "    print (\"first activity reco called with:\" + eur_city)\n",
    "    if sum(descrip[\"City\"]== eur_city) == 1:\n",
    "        activ2 = descrip[(descrip[\"City\"]== eur_city)][\"Activity 2\"].iloc[0]\n",
    "        session.attributes['next_step_yes'] = \"book\"\n",
    "        session.attributes['next_step_no'] = \"another_city\"\n",
    "        return(question(\"{0}. I really hope you enjoyed this journey, stay in touch because tomorrow we can travel some more. for now do you want to read a book about {1}?\".format(activ2, eur_city)))\n",
    "    return(statement(\"I don't know what you're saying about {0}.\".format(eur_city)))\n",
    "\n",
    "def back_Intent(eur_city):\n",
    "    print(\"back intent called with:\" + eur_city)\n",
    "    if sum(descrip[\"City\"]== eur_city) == 1:\n",
    "        session.attributes['next_step_yes'] = \"book\"\n",
    "        session.attributes['next_step_no'] = \"another_city\"\n",
    "        return(question(\"I hope you enjoyed some of this journey. Do you want to know about some of the books about {0}? \".format(eur_city)))\n",
    "    return(statement(\"I don't have {0} in my database.\".format(eur_city)))\n",
    "\n",
    "def book_Intent(eur_city):\n",
    "    print(\"book intent called with:\" + eur_city)\n",
    "    if sum(descrip[\"City\"]== eur_city) == 1:\n",
    "        read = descrip[(descrip[\"City\"]==eur_city)][\"Book\"].iloc[0]\n",
    "        return(statement(\"{0}. you can order this on my mom's platform: Alexa! Anyways, this was fun, see you when I see you!\".format(read)))\n",
    "    return(statement(\"I don't have {0} in my database.\".format(eur_city)))\n",
    "\n",
    "def another_city(eur_city):\n",
    "    next_step = session.attributes['next_step_no']\n",
    "    \n",
    "    if next_step == \"another_city\":\n",
    "        print(\"s2\")\n",
    "        return(statement(\"okay no worries see you next time! \"))\n",
    "        print(\"s3\")\n",
    "    return(question(\"something went wrong\"))\n",
    "\n",
    "# we need to update our config and start our bot again\n",
    "config = [\n",
    "    \n",
    "    ['launch', launch_intent],\n",
    "    ['AMAZON.NoIntent', no_intent],\n",
    "    ['AMAZON.YesIntent', yes_intent],\n",
    "    ['TakemeIntent', takeme_intent],\n",
    "    ['FirstActIntent', activ1_intent],\n",
    "    ['FoodIntent', food_intent],\n",
    "    ['flight', flight],\n",
    "    #['planesoundIntent',planesound_Intent], \n",
    "    #['planesoundNoIndentent',planesound_no_Intent],\n",
    "    ['BookIntent', book_Intent],\n",
    "    ['FirstActIntent', activ1_intent],\n",
    "    ['FoodIntent', food_intent],\n",
    "    ['HotelIntent', hotel_intent],\n",
    "    ['SecondActIntent', activ2_intent],\n",
    "    ['another_city', another_city],\n",
    "    ['back_Intent' , back_Intent]\n",
    "]\n",
    "\n",
    "# create our bot object\n",
    "bot = AlexaBot(config)\n",
    "\n",
    "# start up our bot\n",
    "bot.start()"
   ]
  },
  {
   "cell_type": "markdown",
   "metadata": {},
   "source": [
    "## May 8th "
   ]
  },
  {
   "cell_type": "code",
   "execution_count": 53,
   "metadata": {},
   "outputs": [
    {
     "name": "stderr",
     "output_type": "stream",
     "text": [
      " * Running on http://127.0.0.1:5000/ (Press CTRL+C to quit)\n"
     ]
    },
    {
     "name": "stdout",
     "output_type": "stream",
     "text": [
      "   Index         City                                        Description  \\\n",
      "0       1  Casablanca  It’s impossible to say “Casablanca” without co...   \n",
      "1       2       porto  Porto is, of course, known for its wine. But w...   \n",
      "2       3   Galápagos  Charles Darwin called the Galápagos Islands “a...   \n",
      "3       4       Tokyo  Tokyo is more than 400 years old, and some peo...   \n",
      "\n",
      "                                                Food  \\\n",
      "0  You might want to start your day with somethin...   \n",
      "1  Sample traditional Portuguese dishes like boli...   \n",
      "2  In the heart of one of the most abundant marin...   \n",
      "3  Dine like a local, at an izakaya. Izakaya are ...   \n",
      "\n",
      "                                          Activity 1  \\\n",
      "0  Visit the magnificent Hassan II Grand Mosque, ...   \n",
      "1  Travel to the Vila Nova de Gaia neighborhood o...   \n",
      "2  Fly to Baltra Island and your entry to Galápag...   \n",
      "3   Take a panoramic city tour, seeing Tokyo land...   \n",
      "\n",
      "                                          Activity 2  \\\n",
      "0  venture with a private driver and guide to see...   \n",
      "1  The Douro Valley, also known as the Alto Douro...   \n",
      "2  Take a cruise to Isabela Island, the largest i...   \n",
      "3  If you stay in the Ginza, you can see the glam...   \n",
      "\n",
      "                                               Hotel  \\\n",
      "0  Kenzi Basma.\\nThis four-star, recently renovat...   \n",
      "1  The Yeatman Hotel. \\nThis Relais & Châteaux ho...   \n",
      "2  We recommend the Galaxy Cruise to tour the isl...   \n",
      "3  The Prince Sakura Tower Tokyo. Nestled among g...   \n",
      "\n",
      "                                                Book next_flight  \\\n",
      "0  We recommend The Caliph's House: A Year in Cas...      9 p.m.   \n",
      "1  For wine afficionados, we recommend Anne Fadim...  9:45 p.m.    \n",
      "2  As you admire the finches on Darwin Island in ...  11:00 a.m.   \n",
      "3  Kafka on the Shore by Japanese novelist and To...  11:00 a.m.   \n",
      "\n",
      "              duration     arrival  \n",
      "0   6 hours 50 minutes   8:50 a.m.  \n",
      "1              7 hours   9:45 a.m.  \n",
      "2   6 hours 15 minutes  4:15 p.m.   \n",
      "3  13 hours 55 minutes   1:55 p.m.  \n"
     ]
    },
    {
     "name": "stderr",
     "output_type": "stream",
     "text": [
      "127.0.0.1 - - [10/May/2018 13:30:37] \"POST / HTTP/1.1\" 200 -\n"
     ]
    },
    {
     "name": "stdout",
     "output_type": "stream",
     "text": [
      "start Trippy launch\n"
     ]
    },
    {
     "name": "stderr",
     "output_type": "stream",
     "text": [
      "[2018-05-10 13:30:40,989] ERROR in app: Exception on / [POST]\n",
      "Traceback (most recent call last):\n",
      "  File \"/anaconda3/lib/python3.6/site-packages/flask/app.py\", line 1982, in wsgi_app\n",
      "    response = self.full_dispatch_request()\n",
      "  File \"/anaconda3/lib/python3.6/site-packages/flask/app.py\", line 1614, in full_dispatch_request\n",
      "    rv = self.handle_user_exception(e)\n",
      "  File \"/anaconda3/lib/python3.6/site-packages/flask/app.py\", line 1517, in handle_user_exception\n",
      "    reraise(exc_type, exc_value, tb)\n",
      "  File \"/anaconda3/lib/python3.6/site-packages/flask/_compat.py\", line 33, in reraise\n",
      "    raise value\n",
      "  File \"/anaconda3/lib/python3.6/site-packages/flask/app.py\", line 1612, in full_dispatch_request\n",
      "    rv = self.dispatch_request()\n",
      "  File \"/anaconda3/lib/python3.6/site-packages/flask/app.py\", line 1598, in dispatch_request\n",
      "    return self.view_functions[rule.endpoint](**req.view_args)\n",
      "  File \"/anaconda3/lib/python3.6/site-packages/flask_ask/core.py\", line 767, in _flask_view_func\n",
      "    result = self._map_intent_to_view_func(self.request.intent)()\n",
      "  File \"<ipython-input-53-6ae63835246e>\", line 21, in takeme_intent\n",
      "    print(\"take me intent called with:\" + eur_city)\n",
      "TypeError: must be str, not NoneType\n",
      "127.0.0.1 - - [10/May/2018 13:30:40] \"POST / HTTP/1.1\" 500 -\n",
      "127.0.0.1 - - [10/May/2018 13:30:41] \"POST / HTTP/1.1\" 200 -\n",
      "127.0.0.1 - - [10/May/2018 13:36:58] \"POST / HTTP/1.1\" 200 -\n"
     ]
    },
    {
     "name": "stdout",
     "output_type": "stream",
     "text": [
      "start Trippy launch\n"
     ]
    },
    {
     "name": "stderr",
     "output_type": "stream",
     "text": [
      "127.0.0.1 - - [10/May/2018 13:37:00] \"POST / HTTP/1.1\" 200 -\n"
     ]
    },
    {
     "name": "stdout",
     "output_type": "stream",
     "text": [
      "take me intent called with:Paris\n",
      "a\n"
     ]
    },
    {
     "name": "stderr",
     "output_type": "stream",
     "text": [
      "[2018-05-10 13:37:06,734] ERROR in app: Exception on / [POST]\n",
      "Traceback (most recent call last):\n",
      "  File \"/anaconda3/lib/python3.6/site-packages/flask/app.py\", line 1982, in wsgi_app\n",
      "    response = self.full_dispatch_request()\n",
      "  File \"/anaconda3/lib/python3.6/site-packages/flask/app.py\", line 1614, in full_dispatch_request\n",
      "    rv = self.handle_user_exception(e)\n",
      "  File \"/anaconda3/lib/python3.6/site-packages/flask/app.py\", line 1517, in handle_user_exception\n",
      "    reraise(exc_type, exc_value, tb)\n",
      "  File \"/anaconda3/lib/python3.6/site-packages/flask/_compat.py\", line 33, in reraise\n",
      "    raise value\n",
      "  File \"/anaconda3/lib/python3.6/site-packages/flask/app.py\", line 1612, in full_dispatch_request\n",
      "    rv = self.dispatch_request()\n",
      "  File \"/anaconda3/lib/python3.6/site-packages/flask/app.py\", line 1598, in dispatch_request\n",
      "    return self.view_functions[rule.endpoint](**req.view_args)\n",
      "  File \"/anaconda3/lib/python3.6/site-packages/flask_ask/core.py\", line 767, in _flask_view_func\n",
      "    result = self._map_intent_to_view_func(self.request.intent)()\n",
      "  File \"/anaconda3/lib/python3.6/site-packages/flask_ask/core.py\", line 788, in _map_intent_to_view_func\n",
      "    raise NotImplementedError('Intent \"{}\" not found and no default intent specified.'.format(intent.name))\n",
      "NotImplementedError: Intent \"launch\" not found and no default intent specified.\n",
      "127.0.0.1 - - [10/May/2018 13:37:06] \"POST / HTTP/1.1\" 500 -\n",
      "127.0.0.1 - - [10/May/2018 13:37:07] \"POST / HTTP/1.1\" 200 -\n",
      "127.0.0.1 - - [10/May/2018 13:37:14] \"POST / HTTP/1.1\" 200 -\n"
     ]
    },
    {
     "name": "stdout",
     "output_type": "stream",
     "text": [
      "start Trippy launch\n"
     ]
    },
    {
     "name": "stderr",
     "output_type": "stream",
     "text": [
      "127.0.0.1 - - [10/May/2018 13:37:17] \"POST / HTTP/1.1\" 200 -\n"
     ]
    },
    {
     "name": "stdout",
     "output_type": "stream",
     "text": [
      "take me intent called with:Tokyo\n",
      "a\n",
      "b\n",
      "c\n"
     ]
    },
    {
     "name": "stderr",
     "output_type": "stream",
     "text": [
      "[2018-05-10 13:37:19,518] ERROR in app: Exception on / [POST]\n",
      "Traceback (most recent call last):\n",
      "  File \"/anaconda3/lib/python3.6/site-packages/flask/app.py\", line 1982, in wsgi_app\n",
      "    response = self.full_dispatch_request()\n",
      "  File \"/anaconda3/lib/python3.6/site-packages/flask/app.py\", line 1614, in full_dispatch_request\n",
      "    rv = self.handle_user_exception(e)\n",
      "  File \"/anaconda3/lib/python3.6/site-packages/flask/app.py\", line 1517, in handle_user_exception\n",
      "    reraise(exc_type, exc_value, tb)\n",
      "  File \"/anaconda3/lib/python3.6/site-packages/flask/_compat.py\", line 33, in reraise\n",
      "    raise value\n",
      "  File \"/anaconda3/lib/python3.6/site-packages/flask/app.py\", line 1612, in full_dispatch_request\n",
      "    rv = self.dispatch_request()\n",
      "  File \"/anaconda3/lib/python3.6/site-packages/flask/app.py\", line 1598, in dispatch_request\n",
      "    return self.view_functions[rule.endpoint](**req.view_args)\n",
      "  File \"/anaconda3/lib/python3.6/site-packages/flask_ask/core.py\", line 767, in _flask_view_func\n",
      "    result = self._map_intent_to_view_func(self.request.intent)()\n",
      "  File \"<ipython-input-53-6ae63835246e>\", line 41, in yes_intent\n",
      "    eur_city = session.attributes['eur_city']\n",
      "KeyError: 'eur_city'\n",
      "127.0.0.1 - - [10/May/2018 13:37:19] \"POST / HTTP/1.1\" 500 -\n",
      "127.0.0.1 - - [10/May/2018 13:37:20] \"POST / HTTP/1.1\" 200 -\n",
      "127.0.0.1 - - [10/May/2018 13:37:26] \"POST / HTTP/1.1\" 200 -\n"
     ]
    },
    {
     "name": "stdout",
     "output_type": "stream",
     "text": [
      "start Trippy launch\n"
     ]
    },
    {
     "name": "stderr",
     "output_type": "stream",
     "text": [
      "127.0.0.1 - - [10/May/2018 13:37:29] \"POST / HTTP/1.1\" 200 -\n"
     ]
    },
    {
     "name": "stdout",
     "output_type": "stream",
     "text": [
      "take me intent called with:Tokyo\n",
      "a\n",
      "b\n",
      "c\n"
     ]
    },
    {
     "name": "stderr",
     "output_type": "stream",
     "text": [
      "[2018-05-10 13:37:32,006] ERROR in app: Exception on / [POST]\n",
      "Traceback (most recent call last):\n",
      "  File \"/anaconda3/lib/python3.6/site-packages/flask/app.py\", line 1982, in wsgi_app\n",
      "    response = self.full_dispatch_request()\n",
      "  File \"/anaconda3/lib/python3.6/site-packages/flask/app.py\", line 1614, in full_dispatch_request\n",
      "    rv = self.handle_user_exception(e)\n",
      "  File \"/anaconda3/lib/python3.6/site-packages/flask/app.py\", line 1517, in handle_user_exception\n",
      "    reraise(exc_type, exc_value, tb)\n",
      "  File \"/anaconda3/lib/python3.6/site-packages/flask/_compat.py\", line 33, in reraise\n",
      "    raise value\n",
      "  File \"/anaconda3/lib/python3.6/site-packages/flask/app.py\", line 1612, in full_dispatch_request\n",
      "    rv = self.dispatch_request()\n",
      "  File \"/anaconda3/lib/python3.6/site-packages/flask/app.py\", line 1598, in dispatch_request\n",
      "    return self.view_functions[rule.endpoint](**req.view_args)\n",
      "  File \"/anaconda3/lib/python3.6/site-packages/flask_ask/core.py\", line 767, in _flask_view_func\n",
      "    result = self._map_intent_to_view_func(self.request.intent)()\n",
      "  File \"<ipython-input-53-6ae63835246e>\", line 41, in yes_intent\n",
      "    eur_city = session.attributes['eur_city']\n",
      "KeyError: 'eur_city'\n",
      "127.0.0.1 - - [10/May/2018 13:37:32] \"POST / HTTP/1.1\" 500 -\n",
      "127.0.0.1 - - [10/May/2018 13:37:32] \"POST / HTTP/1.1\" 200 -\n",
      "127.0.0.1 - - [10/May/2018 13:37:36] \"POST / HTTP/1.1\" 200 -\n"
     ]
    },
    {
     "name": "stdout",
     "output_type": "stream",
     "text": [
      "start Trippy launch\n"
     ]
    },
    {
     "name": "stderr",
     "output_type": "stream",
     "text": [
      "127.0.0.1 - - [10/May/2018 13:37:41] \"POST / HTTP/1.1\" 200 -\n"
     ]
    },
    {
     "name": "stdout",
     "output_type": "stream",
     "text": [
      "take me intent called with:Tokyo\n",
      "a\n",
      "b\n",
      "c\n"
     ]
    },
    {
     "name": "stderr",
     "output_type": "stream",
     "text": [
      "[2018-05-10 13:37:43,274] ERROR in app: Exception on / [POST]\n",
      "Traceback (most recent call last):\n",
      "  File \"/anaconda3/lib/python3.6/site-packages/flask/app.py\", line 1982, in wsgi_app\n",
      "    response = self.full_dispatch_request()\n",
      "  File \"/anaconda3/lib/python3.6/site-packages/flask/app.py\", line 1614, in full_dispatch_request\n",
      "    rv = self.handle_user_exception(e)\n",
      "  File \"/anaconda3/lib/python3.6/site-packages/flask/app.py\", line 1517, in handle_user_exception\n",
      "    reraise(exc_type, exc_value, tb)\n",
      "  File \"/anaconda3/lib/python3.6/site-packages/flask/_compat.py\", line 33, in reraise\n",
      "    raise value\n",
      "  File \"/anaconda3/lib/python3.6/site-packages/flask/app.py\", line 1612, in full_dispatch_request\n",
      "    rv = self.dispatch_request()\n",
      "  File \"/anaconda3/lib/python3.6/site-packages/flask/app.py\", line 1598, in dispatch_request\n",
      "    return self.view_functions[rule.endpoint](**req.view_args)\n",
      "  File \"/anaconda3/lib/python3.6/site-packages/flask_ask/core.py\", line 767, in _flask_view_func\n",
      "    result = self._map_intent_to_view_func(self.request.intent)()\n",
      "  File \"<ipython-input-53-6ae63835246e>\", line 67, in no_intent\n",
      "    eur_city = session.attributes['eur_city']\n",
      "KeyError: 'eur_city'\n",
      "127.0.0.1 - - [10/May/2018 13:37:43] \"POST / HTTP/1.1\" 500 -\n"
     ]
    },
    {
     "name": "stdout",
     "output_type": "stream",
     "text": [
      "the no intent was called\n"
     ]
    },
    {
     "name": "stderr",
     "output_type": "stream",
     "text": [
      "127.0.0.1 - - [10/May/2018 13:37:44] \"POST / HTTP/1.1\" 200 -\n",
      "127.0.0.1 - - [10/May/2018 13:39:17] \"POST / HTTP/1.1\" 200 -\n"
     ]
    },
    {
     "name": "stdout",
     "output_type": "stream",
     "text": [
      "start Trippy launch\n"
     ]
    },
    {
     "name": "stderr",
     "output_type": "stream",
     "text": [
      "127.0.0.1 - - [10/May/2018 13:39:23] \"POST / HTTP/1.1\" 200 -\n"
     ]
    },
    {
     "name": "stdout",
     "output_type": "stream",
     "text": [
      "hotel intent called with:Tokyo\n",
      "go to food intent\n",
      "go to activity intent\n"
     ]
    },
    {
     "name": "stderr",
     "output_type": "stream",
     "text": [
      "[2018-05-10 13:39:29,845] ERROR in app: Exception on / [POST]\n",
      "Traceback (most recent call last):\n",
      "  File \"/anaconda3/lib/python3.6/site-packages/flask/app.py\", line 1982, in wsgi_app\n",
      "    response = self.full_dispatch_request()\n",
      "  File \"/anaconda3/lib/python3.6/site-packages/flask/app.py\", line 1614, in full_dispatch_request\n",
      "    rv = self.handle_user_exception(e)\n",
      "  File \"/anaconda3/lib/python3.6/site-packages/flask/app.py\", line 1517, in handle_user_exception\n",
      "    reraise(exc_type, exc_value, tb)\n",
      "  File \"/anaconda3/lib/python3.6/site-packages/flask/_compat.py\", line 33, in reraise\n",
      "    raise value\n",
      "  File \"/anaconda3/lib/python3.6/site-packages/flask/app.py\", line 1612, in full_dispatch_request\n",
      "    rv = self.dispatch_request()\n",
      "  File \"/anaconda3/lib/python3.6/site-packages/flask/app.py\", line 1598, in dispatch_request\n",
      "    return self.view_functions[rule.endpoint](**req.view_args)\n",
      "  File \"/anaconda3/lib/python3.6/site-packages/flask_ask/core.py\", line 767, in _flask_view_func\n",
      "    result = self._map_intent_to_view_func(self.request.intent)()\n",
      "  File \"/anaconda3/lib/python3.6/site-packages/flask_ask/core.py\", line 788, in _map_intent_to_view_func\n",
      "    raise NotImplementedError('Intent \"{}\" not found and no default intent specified.'.format(intent.name))\n",
      "NotImplementedError: Intent \"launch\" not found and no default intent specified.\n",
      "127.0.0.1 - - [10/May/2018 13:39:29] \"POST / HTTP/1.1\" 500 -\n",
      "127.0.0.1 - - [10/May/2018 13:39:30] \"POST / HTTP/1.1\" 200 -\n",
      "127.0.0.1 - - [10/May/2018 13:39:37] \"POST / HTTP/1.1\" 200 -\n"
     ]
    },
    {
     "name": "stdout",
     "output_type": "stream",
     "text": [
      "start Trippy launch\n"
     ]
    },
    {
     "name": "stderr",
     "output_type": "stream",
     "text": [
      "127.0.0.1 - - [10/May/2018 13:39:45] \"POST / HTTP/1.1\" 200 -\n"
     ]
    },
    {
     "name": "stdout",
     "output_type": "stream",
     "text": [
      "take me intent called with:Berlin\n",
      "a\n"
     ]
    }
   ],
   "source": [
    "# import the dataset\n",
    "from pandas import DataFrame\n",
    "from pandas import read_csv\n",
    "\n",
    "# it is a local dataset\n",
    "descrip = read_csv(\"Trippydescription.csv\")\n",
    "print(descrip)\n",
    "\n",
    "#import alexa related libraries\n",
    "from alexa_bot import AlexaBot\n",
    "from flask_ask import Ask, request, session, question, statement, context, audio, current_stream\n",
    "\n",
    "# define the intents \n",
    "# do not forget to add them to the intercation model as well. \n",
    "def launch_intent():\n",
    "    print(\"start Trippy launch\")\n",
    "    return(question(\"Welcome! How can I plan your travel today?\"))\n",
    "\n",
    "\n",
    "def takeme_intent(eur_city):    \n",
    "    print(\"take me intent called with:\" + eur_city)\n",
    "    # we need \"session.attributes\" to store the answers that users give for future use\n",
    "    session.attributes[\"eur_city\"] = eur_city\n",
    "    print('a')\n",
    "    # Here we check to see if the city is in the dataset\n",
    "    if sum(descrip[\"City\"]== eur_city) == 1:\n",
    "        takeme = descrip[(descrip[\"City\"] == eur_city)][\"Description\"].iloc[0]\n",
    "        session.attributes['next_step_yes'] = \"flight\"\n",
    "        print('b')\n",
    "        session.attributes['next_step_no'] = \"another_city\"\n",
    "        print('c')\n",
    "        return(question(\"Alright,{0}. {1}  would you like to know when is the next flight from New York City?\".format(eur_city, takeme)))\n",
    "        print('d')\n",
    "        #session.attributes['next_step_yes'] = \"recommend another city\"\n",
    "    return(question(\"I don't have {0} in my database. How about some other place? Like Tokyo or Casablanca or even Porto?\".format(eur_city)))\n",
    "    print('ee')\n",
    "\n",
    "def yes_intent():\n",
    "    \n",
    "    next_step = session.attributes['next_step_yes']\n",
    "    eur_city = session.attributes['eur_city']\n",
    "    \n",
    "    if next_step == \"flight\":\n",
    "        return (flight(eur_city))\n",
    "        \n",
    "    elif next_step == \"plane_sound\":\n",
    "        #planesound_Intent(eur_city)\n",
    "        #return(question(\"fuck you for now\"))\n",
    "        return (planesound_Intent(eur_city))\n",
    "    elif next_step == \"hotel\":\n",
    "        return (hotel_intent (eur_city))\n",
    "    elif next_step == \"food\":\n",
    "        return (food_intent(eur_city))\n",
    "    elif next_step == \"activ1\":\n",
    "        return (activ1_intent(eur_city))\n",
    "    elif next_step == \"activ2\":\n",
    "        return (activ2_intent(eur_city))\n",
    "    elif next_step == \"book\":\n",
    "        return (book_Intent(eur_city))\n",
    "    else:\n",
    "        return(question(\"we're not sure what you're trying to do....\"))\n",
    "    #return(statement(\"ok kourosh!\"))\n",
    "    \n",
    "def no_intent():\n",
    "    print(\"the no intent was called\")\n",
    "    next_step = session.attributes['next_step_no']\n",
    "    eur_city = session.attributes['eur_city']\n",
    "    if next_step == \"another_city\":\n",
    "        return (another_city(eur_city))\n",
    "        print('f')\n",
    "    elif next_step == \"plane_no_sound\":\n",
    "        return (planesound_no_Intent(eur_city))\n",
    "    elif next_step == \"hotel\":\n",
    "        return (hotel_intent (eur_city))\n",
    "    elif next_step == \"activ1\":\n",
    "        return (activ1_intent(eur_city))\n",
    "    elif next_step == \"back\":\n",
    "        return (back_Intent(eur_city))\n",
    "    elif next_step == \"another_city\":\n",
    "        return (another_city(eur_city)) \n",
    "    else:\n",
    "        return(question(\"we're not sure what you're trying to do....\"))\n",
    "\n",
    "    \n",
    "def flight(eur_city):\n",
    "    #print(\"flight intent called with:\" + eur_city)\n",
    "    print(descrip)\n",
    "    next_flight = descrip[(descrip[\"City\"] == eur_city)][\"next_flight\"].iloc[0]\n",
    "    print(\"next_flight\")\n",
    "    print(next_flight)\n",
    "    arrive = descrip[(descrip[\"City\"] == eur_city)][\"arrival\"].iloc[0]\n",
    "    print(\"arrive\")\n",
    "    print(arrive)\n",
    "    duration = descrip[(descrip[\"City\"] == eur_city)][\"duration\"].iloc[0]\n",
    "    print(\"dur\")\n",
    "    print(duration)\n",
    "    if sum(descrip[\"City\"] == eur_city) == 1:\n",
    "        session.attributes['next_step_yes'] = \"plane_sound\"\n",
    "        session.attributes['next_step_no'] = \"plane_no_sound\"\n",
    "        return(question(\"The first flight to {0} leaves New York City at {1}, and you will arrive at {2} local time, so you are on the plane for {3} hours. Ready for your journy?\".format(eur_city, next_flight, arrive, duration)))\n",
    "    return(question(\"I don't have {0} flight info in my database. I am sorry. How about some other place? Like Tokyo or Casablanca or even Porto?\".format(eur_city)))\n",
    "  \n",
    "#How do you randomize the place Trippy suggests?\n",
    "#it will arrive at {2} local time which means you are on the plane for  {3}\"\n",
    "\n",
    "def planesound_Intent(eur_city):\n",
    "    print(\"the planesound_Intent was called\")\n",
    "    next_step = session.attributes['next_step_yes']\n",
    "    speech = 'Welcome aboard!'\n",
    "    stream_url = 'https://www.soundjay.com/transportation/sounds/airplane-fly-by-01a.mp3'\n",
    "    print(\"s1\")\n",
    "    if next_step == \"plane_sound\":\n",
    "        print(\"s2\")\n",
    "        for i in range(1):\n",
    "            if i == 0 :\n",
    "                print(i)\n",
    "                #return(question(\"hello\"))\n",
    "                return(audio(speech).play(stream_url))\n",
    "                print(i)\n",
    "                i = i+1\n",
    "            return(question(\"you are in {0}, and it is {1} local time. Would you like to know about yoru accomodation?\".format(eur_city, arrive)))\n",
    "            print(i)\n",
    "    return(question(\"something went wrong\"))\n",
    "\n",
    "def planesound_no_Intent(eur_city):\n",
    "    next_step = session.attributes['next_step_no']\n",
    "    speech = \"It's too bad that you are not ready, we hope you enjoy it regardless.\"\n",
    "    stream_url = 'https://www.soundjay.com/transportation/sounds/airplane-fly-by-01a.mp3'\n",
    "    print(\"s1\")\n",
    "    if next_step == \"plane_no_sound\":\n",
    "        print(\"s2\")\n",
    "        return(audio(speech).play(stream_url))\n",
    "        print(\"s3\")\n",
    "    return(question(\"something went wrong\"))\n",
    "\n",
    "\n",
    "def hotel_intent (eur_city):\n",
    "    print (\"hotel intent called with:\" + eur_city)\n",
    "    session.attributes[\"eur_city\"] = eur_city\n",
    "    if sum(descrip[\"City\"]== eur_city) == 1:\n",
    "        lodging = descrip[(descrip[\"City\"]== eur_city)][\"Hotel\"].iloc[0]\n",
    "        session.attributes['next_step_yes'] = \"food\"\n",
    "        print('go to food intent')\n",
    "        session.attributes['next_step_no'] = \"back\"\n",
    "        print('go to activity intent')\n",
    "        return(question(\"{0}. Are you hungry?\".format(lodging)))\n",
    "    return (statement(\"I don't have {0} in my database.\".format(eur_city)))\n",
    "\n",
    "def food_intent (eur_city):\n",
    "    print (\"food intent called with:\" + eur_city)\n",
    "    if sum(descrip[\"City\"]== eur_city) == 1:\n",
    "        session.attributes['next_step_yes'] = \"activ1\"\n",
    "        session.attributes['next_step_no'] = \"back\"\n",
    "        eats = descrip[(descrip[\"City\"]== eur_city)][\"Food\"].iloc[0]\n",
    "        return(question(\"{0}. Okay now it's time to do something in the city. Shall we continue?\".format(eats)))\n",
    "#       return(question(\"{0}. Are you up for an activity?\".format(lodging)))\n",
    "    return (statement(\"I don't have {0} in my database.\".format(eur_city)))\n",
    "\n",
    "def activ1_intent (eur_city):\n",
    "    print (\"first activity reco called with:\" + eur_city)\n",
    "    if sum(descrip[\"City\"]== eur_city) == 1:\n",
    "        activ1 = descrip[(descrip[\"City\"]== eur_city)][\"Activity 1\"].iloc[0]\n",
    "        session.attributes['next_step_yes'] = \"activ2\"\n",
    "        session.attributes['next_step_no'] = \"back\"\n",
    "        return(question(\"{0}. Would you like to hear another activity to do in {1}?\".format(activ1, eur_city)))\n",
    "    return(question(\"I don't have {0} in my database.\".format(eur_city)))\n",
    "\n",
    "def activ2_intent (eur_city):\n",
    "    print (\"first activity reco called with:\" + eur_city)\n",
    "    if sum(descrip[\"City\"]== eur_city) == 1:\n",
    "        activ2 = descrip[(descrip[\"City\"]== eur_city)][\"Activity 2\"].iloc[0]\n",
    "        session.attributes['next_step_yes'] = \"book\"\n",
    "        session.attributes['next_step_no'] = \"another_city\"\n",
    "        return(question(\"{0}.We hope you have enjoyed this trip, would you like to know more about {1}?\".format(activ2, eur_city)))\n",
    "    return(statement(\"I don't have {0} in my database.\".format(eur_city)))\n",
    "\n",
    "def back_Intent(eur_city):\n",
    "    print(\"back intent called with:\" + eur_city)\n",
    "    if sum(descrip[\"City\"]== eur_city) == 1:\n",
    "        session.attributes['next_step_yes'] = \"book\"\n",
    "        session.attributes['next_step_no'] = \"another_city\"\n",
    "        return(question(\"Thank you for spending your time with us. Would you like to know about some of the books related to {0}? \".format(eur_city)))\n",
    "    return(statement(\"I don't have {0} in my database.\".format(eur_city)))\n",
    "\n",
    "def book_Intent(eur_city):\n",
    "    print(\"book intent called with:\" + eur_city)\n",
    "    if sum(descrip[\"City\"]== eur_city) == 1:\n",
    "        read = descrip[(descrip[\"City\"]==eur_city)][\"Book\"].iloc[0]\n",
    "        return(statement(\"{0}. you can order it on Trippy's mom: Alexa! Have a  great evening!\".format(read)))\n",
    "    return(statement(\"I don't have {0} in my database.\".format(eur_city)))\n",
    "\n",
    "def another_city(eur_city):\n",
    "    next_step = session.attributes['next_step_no']\n",
    "    \n",
    "    if next_step == \"another_city\":\n",
    "        print(\"s2\")\n",
    "        return(statement(\"See you next time! \"))\n",
    "        print(\"s3\")\n",
    "    return(question(\"something went wrong\"))\n",
    "\n",
    "# we need to update our config and start our bot again\n",
    "config = [\n",
    "    \n",
    "    ['launch', launch_intent],\n",
    "    ['AMAZON.NoIntent', no_intent],\n",
    "    ['AMAZON.YesIntent', yes_intent],\n",
    "    ['TakemeIntent', takeme_intent],\n",
    "    ['FirstActIntent', activ1_intent],\n",
    "    ['FoodIntent', food_intent],\n",
    "    ['flight', flight],\n",
    "    ['planesoundIntent',planesound_Intent], \n",
    "    ['planesoundNoIndentent',planesound_no_Intent],\n",
    "    ['BookIntent', book_Intent],\n",
    "    ['FirstActIntent', activ1_intent],\n",
    "    ['FoodIntent', food_intent],\n",
    "    ['HotelIntent', hotel_intent],\n",
    "    ['SecondActIntent', activ2_intent],\n",
    "    ['another_city', another_city],\n",
    "    ['back_Intent' , back_Intent]\n",
    "]\n",
    "\n",
    "# create our bot object\n",
    "bot = AlexaBot(config)\n",
    "\n",
    "# start up our bot\n",
    "bot.start()\n"
   ]
  },
  {
   "cell_type": "code",
   "execution_count": null,
   "metadata": {
    "collapsed": true
   },
   "outputs": [],
   "source": []
  },
  {
   "cell_type": "code",
   "execution_count": null,
   "metadata": {
    "collapsed": true
   },
   "outputs": [],
   "source": []
  },
  {
   "cell_type": "code",
   "execution_count": null,
   "metadata": {
    "collapsed": true
   },
   "outputs": [],
   "source": []
  },
  {
   "cell_type": "code",
   "execution_count": null,
   "metadata": {
    "collapsed": true
   },
   "outputs": [],
   "source": []
  },
  {
   "cell_type": "code",
   "execution_count": null,
   "metadata": {
    "collapsed": true
   },
   "outputs": [],
   "source": []
  },
  {
   "cell_type": "code",
   "execution_count": null,
   "metadata": {
    "collapsed": true
   },
   "outputs": [],
   "source": []
  },
  {
   "cell_type": "code",
   "execution_count": null,
   "metadata": {
    "collapsed": true
   },
   "outputs": [],
   "source": []
  },
  {
   "cell_type": "code",
   "execution_count": null,
   "metadata": {
    "collapsed": true
   },
   "outputs": [],
   "source": []
  }
 ],
 "metadata": {
  "kernelspec": {
   "display_name": "Python 3",
   "language": "python",
   "name": "python3"
  },
  "language_info": {
   "codemirror_mode": {
    "name": "ipython",
    "version": 3
   },
   "file_extension": ".py",
   "mimetype": "text/x-python",
   "name": "python",
   "nbconvert_exporter": "python",
   "pygments_lexer": "ipython3",
   "version": "3.6.3"
  }
 },
 "nbformat": 4,
 "nbformat_minor": 2
}
